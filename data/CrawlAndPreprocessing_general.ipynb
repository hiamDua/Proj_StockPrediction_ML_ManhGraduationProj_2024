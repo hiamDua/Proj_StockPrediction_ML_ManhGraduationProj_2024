{
 "cells": [
  {
   "cell_type": "code",
   "execution_count": 1,
   "metadata": {},
   "outputs": [
    {
     "name": "stdout",
     "output_type": "stream",
     "text": [
      "Defaulting to user installation because normal site-packages is not writeable\n",
      "Requirement already satisfied: vnstock3 in c:\\users\\user\\appdata\\local\\packages\\pythonsoftwarefoundation.python.3.10_qbz5n2kfra8p0\\localcache\\local-packages\\python312\\site-packages (3.1.0)\n",
      "Requirement already satisfied: requests in c:\\users\\user\\appdata\\local\\packages\\pythonsoftwarefoundation.python.3.10_qbz5n2kfra8p0\\localcache\\local-packages\\python312\\site-packages (from vnstock3) (2.32.3)\n",
      "Requirement already satisfied: beautifulsoup4 in c:\\users\\user\\appdata\\local\\packages\\pythonsoftwarefoundation.python.3.10_qbz5n2kfra8p0\\localcache\\local-packages\\python312\\site-packages (from vnstock3) (4.12.3)\n",
      "Requirement already satisfied: pandas in c:\\users\\user\\appdata\\local\\packages\\pythonsoftwarefoundation.python.3.10_qbz5n2kfra8p0\\localcache\\local-packages\\python312\\site-packages (from vnstock3) (2.2.3)\n",
      "Requirement already satisfied: vnai>=0.1.3 in c:\\users\\user\\appdata\\local\\packages\\pythonsoftwarefoundation.python.3.10_qbz5n2kfra8p0\\localcache\\local-packages\\python312\\site-packages (from vnstock3) (0.1.3)\n",
      "Requirement already satisfied: openpyxl in c:\\users\\user\\appdata\\local\\packages\\pythonsoftwarefoundation.python.3.10_qbz5n2kfra8p0\\localcache\\local-packages\\python312\\site-packages (from vnstock3) (3.1.5)\n",
      "Requirement already satisfied: pydantic in c:\\users\\user\\appdata\\local\\packages\\pythonsoftwarefoundation.python.3.10_qbz5n2kfra8p0\\localcache\\local-packages\\python312\\site-packages (from vnstock3) (2.10.2)\n",
      "Requirement already satisfied: psutil in c:\\users\\user\\appdata\\local\\packages\\pythonsoftwarefoundation.python.3.10_qbz5n2kfra8p0\\localcache\\local-packages\\python312\\site-packages (from vnstock3) (6.1.0)\n",
      "Requirement already satisfied: fake-useragent in c:\\users\\user\\appdata\\local\\packages\\pythonsoftwarefoundation.python.3.10_qbz5n2kfra8p0\\localcache\\local-packages\\python312\\site-packages (from vnstock3) (1.5.1)\n",
      "Requirement already satisfied: vnstock-ezchart in c:\\users\\user\\appdata\\local\\packages\\pythonsoftwarefoundation.python.3.10_qbz5n2kfra8p0\\localcache\\local-packages\\python312\\site-packages (from vnstock3) (0.0.2)\n",
      "Requirement already satisfied: click in c:\\users\\user\\appdata\\local\\packages\\pythonsoftwarefoundation.python.3.10_qbz5n2kfra8p0\\localcache\\local-packages\\python312\\site-packages (from vnstock3) (8.1.7)\n",
      "Requirement already satisfied: seaborn in c:\\users\\user\\appdata\\local\\packages\\pythonsoftwarefoundation.python.3.10_qbz5n2kfra8p0\\localcache\\local-packages\\python312\\site-packages (from vnstock3) (0.13.2)\n",
      "Requirement already satisfied: cryptography in c:\\users\\user\\appdata\\local\\packages\\pythonsoftwarefoundation.python.3.10_qbz5n2kfra8p0\\localcache\\local-packages\\python312\\site-packages (from vnai>=0.1.3->vnstock3) (44.0.0)\n",
      "Requirement already satisfied: soupsieve>1.2 in c:\\users\\user\\appdata\\local\\packages\\pythonsoftwarefoundation.python.3.10_qbz5n2kfra8p0\\localcache\\local-packages\\python312\\site-packages (from beautifulsoup4->vnstock3) (2.6)\n",
      "Requirement already satisfied: colorama in c:\\users\\user\\appdata\\local\\packages\\pythonsoftwarefoundation.python.3.10_qbz5n2kfra8p0\\localcache\\local-packages\\python312\\site-packages (from click->vnstock3) (0.4.6)\n",
      "Requirement already satisfied: et-xmlfile in c:\\users\\user\\appdata\\local\\packages\\pythonsoftwarefoundation.python.3.10_qbz5n2kfra8p0\\localcache\\local-packages\\python312\\site-packages (from openpyxl->vnstock3) (2.0.0)\n",
      "Requirement already satisfied: numpy>=1.26.0 in c:\\users\\user\\appdata\\local\\packages\\pythonsoftwarefoundation.python.3.10_qbz5n2kfra8p0\\localcache\\local-packages\\python312\\site-packages (from pandas->vnstock3) (2.1.3)\n",
      "Requirement already satisfied: python-dateutil>=2.8.2 in c:\\users\\user\\appdata\\local\\packages\\pythonsoftwarefoundation.python.3.10_qbz5n2kfra8p0\\localcache\\local-packages\\python312\\site-packages (from pandas->vnstock3) (2.9.0.post0)\n",
      "Requirement already satisfied: pytz>=2020.1 in c:\\users\\user\\appdata\\local\\packages\\pythonsoftwarefoundation.python.3.10_qbz5n2kfra8p0\\localcache\\local-packages\\python312\\site-packages (from pandas->vnstock3) (2024.2)\n",
      "Requirement already satisfied: tzdata>=2022.7 in c:\\users\\user\\appdata\\local\\packages\\pythonsoftwarefoundation.python.3.10_qbz5n2kfra8p0\\localcache\\local-packages\\python312\\site-packages (from pandas->vnstock3) (2024.2)\n",
      "Requirement already satisfied: annotated-types>=0.6.0 in c:\\users\\user\\appdata\\local\\packages\\pythonsoftwarefoundation.python.3.10_qbz5n2kfra8p0\\localcache\\local-packages\\python312\\site-packages (from pydantic->vnstock3) (0.7.0)\n",
      "Requirement already satisfied: pydantic-core==2.27.1 in c:\\users\\user\\appdata\\local\\packages\\pythonsoftwarefoundation.python.3.10_qbz5n2kfra8p0\\localcache\\local-packages\\python312\\site-packages (from pydantic->vnstock3) (2.27.1)\n",
      "Requirement already satisfied: typing-extensions>=4.12.2 in c:\\users\\user\\appdata\\local\\packages\\pythonsoftwarefoundation.python.3.10_qbz5n2kfra8p0\\localcache\\local-packages\\python312\\site-packages (from pydantic->vnstock3) (4.12.2)\n",
      "Requirement already satisfied: charset-normalizer<4,>=2 in c:\\users\\user\\appdata\\local\\packages\\pythonsoftwarefoundation.python.3.10_qbz5n2kfra8p0\\localcache\\local-packages\\python312\\site-packages (from requests->vnstock3) (3.4.0)\n",
      "Requirement already satisfied: idna<4,>=2.5 in c:\\users\\user\\appdata\\local\\packages\\pythonsoftwarefoundation.python.3.10_qbz5n2kfra8p0\\localcache\\local-packages\\python312\\site-packages (from requests->vnstock3) (3.10)\n",
      "Requirement already satisfied: urllib3<3,>=1.21.1 in c:\\users\\user\\appdata\\local\\packages\\pythonsoftwarefoundation.python.3.10_qbz5n2kfra8p0\\localcache\\local-packages\\python312\\site-packages (from requests->vnstock3) (2.2.3)\n",
      "Requirement already satisfied: certifi>=2017.4.17 in c:\\users\\user\\appdata\\local\\packages\\pythonsoftwarefoundation.python.3.10_qbz5n2kfra8p0\\localcache\\local-packages\\python312\\site-packages (from requests->vnstock3) (2024.8.30)\n",
      "Requirement already satisfied: matplotlib!=3.6.1,>=3.4 in c:\\users\\user\\appdata\\local\\packages\\pythonsoftwarefoundation.python.3.10_qbz5n2kfra8p0\\localcache\\local-packages\\python312\\site-packages (from seaborn->vnstock3) (3.9.2)\n",
      "Requirement already satisfied: squarify in c:\\users\\user\\appdata\\local\\packages\\pythonsoftwarefoundation.python.3.10_qbz5n2kfra8p0\\localcache\\local-packages\\python312\\site-packages (from vnstock-ezchart->vnstock3) (0.4.4)\n",
      "Requirement already satisfied: wordcloud in c:\\users\\user\\appdata\\local\\packages\\pythonsoftwarefoundation.python.3.10_qbz5n2kfra8p0\\localcache\\local-packages\\python312\\site-packages (from vnstock-ezchart->vnstock3) (1.9.4)\n",
      "Requirement already satisfied: vnstock in c:\\users\\user\\appdata\\local\\packages\\pythonsoftwarefoundation.python.3.10_qbz5n2kfra8p0\\localcache\\local-packages\\python312\\site-packages (from vnstock-ezchart->vnstock3) (0.2.9.2.3)\n",
      "Requirement already satisfied: contourpy>=1.0.1 in c:\\users\\user\\appdata\\local\\packages\\pythonsoftwarefoundation.python.3.10_qbz5n2kfra8p0\\localcache\\local-packages\\python312\\site-packages (from matplotlib!=3.6.1,>=3.4->seaborn->vnstock3) (1.3.1)\n",
      "Requirement already satisfied: cycler>=0.10 in c:\\users\\user\\appdata\\local\\packages\\pythonsoftwarefoundation.python.3.10_qbz5n2kfra8p0\\localcache\\local-packages\\python312\\site-packages (from matplotlib!=3.6.1,>=3.4->seaborn->vnstock3) (0.12.1)\n",
      "Requirement already satisfied: fonttools>=4.22.0 in c:\\users\\user\\appdata\\local\\packages\\pythonsoftwarefoundation.python.3.10_qbz5n2kfra8p0\\localcache\\local-packages\\python312\\site-packages (from matplotlib!=3.6.1,>=3.4->seaborn->vnstock3) (4.55.0)\n",
      "Requirement already satisfied: kiwisolver>=1.3.1 in c:\\users\\user\\appdata\\local\\packages\\pythonsoftwarefoundation.python.3.10_qbz5n2kfra8p0\\localcache\\local-packages\\python312\\site-packages (from matplotlib!=3.6.1,>=3.4->seaborn->vnstock3) (1.4.7)\n",
      "Requirement already satisfied: packaging>=20.0 in c:\\users\\user\\appdata\\local\\packages\\pythonsoftwarefoundation.python.3.10_qbz5n2kfra8p0\\localcache\\local-packages\\python312\\site-packages (from matplotlib!=3.6.1,>=3.4->seaborn->vnstock3) (24.2)\n",
      "Requirement already satisfied: pillow>=8 in c:\\users\\user\\appdata\\local\\packages\\pythonsoftwarefoundation.python.3.10_qbz5n2kfra8p0\\localcache\\local-packages\\python312\\site-packages (from matplotlib!=3.6.1,>=3.4->seaborn->vnstock3) (11.0.0)\n",
      "Requirement already satisfied: pyparsing>=2.3.1 in c:\\users\\user\\appdata\\local\\packages\\pythonsoftwarefoundation.python.3.10_qbz5n2kfra8p0\\localcache\\local-packages\\python312\\site-packages (from matplotlib!=3.6.1,>=3.4->seaborn->vnstock3) (3.2.0)\n",
      "Requirement already satisfied: six>=1.5 in c:\\users\\user\\appdata\\local\\packages\\pythonsoftwarefoundation.python.3.10_qbz5n2kfra8p0\\localcache\\local-packages\\python312\\site-packages (from python-dateutil>=2.8.2->pandas->vnstock3) (1.16.0)\n",
      "Requirement already satisfied: cffi>=1.12 in c:\\users\\user\\appdata\\local\\packages\\pythonsoftwarefoundation.python.3.10_qbz5n2kfra8p0\\localcache\\local-packages\\python312\\site-packages (from cryptography->vnai>=0.1.3->vnstock3) (1.17.1)\n",
      "Requirement already satisfied: pycparser in c:\\users\\user\\appdata\\local\\packages\\pythonsoftwarefoundation.python.3.10_qbz5n2kfra8p0\\localcache\\local-packages\\python312\\site-packages (from cffi>=1.12->cryptography->vnai>=0.1.3->vnstock3) (2.22)\n"
     ]
    },
    {
     "name": "stderr",
     "output_type": "stream",
     "text": [
      "\n",
      "[notice] A new release of pip is available: 24.2 -> 24.3.1\n",
      "[notice] To update, run: C:\\Users\\User\\AppData\\Local\\Microsoft\\WindowsApps\\PythonSoftwareFoundation.Python.3.12_qbz5n2kfra8p0\\python.exe -m pip install --upgrade pip\n"
     ]
    }
   ],
   "source": [
    "!pip install -U vnstock3"
   ]
  },
  {
   "cell_type": "code",
   "execution_count": 2,
   "metadata": {},
   "outputs": [
    {
     "ename": "ModuleNotFoundError",
     "evalue": "No module named 'vnstock3'",
     "output_type": "error",
     "traceback": [
      "\u001b[1;31m---------------------------------------------------------------------------\u001b[0m",
      "\u001b[1;31mModuleNotFoundError\u001b[0m                       Traceback (most recent call last)",
      "Cell \u001b[1;32mIn[2], line 1\u001b[0m\n\u001b[1;32m----> 1\u001b[0m \u001b[38;5;28;01mfrom\u001b[39;00m \u001b[38;5;21;01mvnstock3\u001b[39;00m \u001b[38;5;28;01mimport\u001b[39;00m Vnstock\n\u001b[0;32m      3\u001b[0m stock \u001b[38;5;241m=\u001b[39m Vnstock()\u001b[38;5;241m.\u001b[39mstock(symbol\u001b[38;5;241m=\u001b[39m\u001b[38;5;124m'\u001b[39m\u001b[38;5;124mACB\u001b[39m\u001b[38;5;124m'\u001b[39m, source\u001b[38;5;241m=\u001b[39m\u001b[38;5;124m'\u001b[39m\u001b[38;5;124mVCI\u001b[39m\u001b[38;5;124m'\u001b[39m)\n\u001b[0;32m      4\u001b[0m df \u001b[38;5;241m=\u001b[39m stock\u001b[38;5;241m.\u001b[39mquote\u001b[38;5;241m.\u001b[39mhistory(\n\u001b[0;32m      5\u001b[0m     start\u001b[38;5;241m=\u001b[39m\u001b[38;5;124m'\u001b[39m\u001b[38;5;124m2024-01-01\u001b[39m\u001b[38;5;124m'\u001b[39m,\n\u001b[0;32m      6\u001b[0m     end\u001b[38;5;241m=\u001b[39m\u001b[38;5;124m'\u001b[39m\u001b[38;5;124m2024-06-21\u001b[39m\u001b[38;5;124m'\u001b[39m,\n\u001b[0;32m      7\u001b[0m     interval\u001b[38;5;241m=\u001b[39m\u001b[38;5;124m'\u001b[39m\u001b[38;5;124m1D\u001b[39m\u001b[38;5;124m'\u001b[39m\n\u001b[0;32m      8\u001b[0m )\n",
      "\u001b[1;31mModuleNotFoundError\u001b[0m: No module named 'vnstock3'"
     ]
    }
   ],
   "source": [
    "from vnstock3 import Vnstock\n",
    "\n",
    "stock = Vnstock().stock(symbol='ACB', source='VCI')\n",
    "df = stock.quote.history(\n",
    "    start='2024-01-01',\n",
    "    end='2024-06-21',\n",
    "    interval='1D'\n",
    ")\n",
    "\n",
    "# preview the first five rows\n",
    "print(df.head())\n"
   ]
  },
  {
   "cell_type": "code",
   "execution_count": 28,
   "metadata": {},
   "outputs": [
    {
     "name": "stderr",
     "output_type": "stream",
     "text": [
      "2024-10-23 23:55:41,180 - vnstock3.common.data.data_explorer - WARNING - Thông tin niêm yết & giao dịch sẽ được truy xuất từ TCBS\n"
     ]
    },
    {
     "name": "stdout",
     "output_type": "stream",
     "text": [
      "Data saved to ../data/raw/fpt_stock_data.csv\n",
      "          time    open    high     low   close   volume\n",
      "0   2023-01-03   56.42   58.70   56.35   58.70  1538861\n",
      "1   2023-01-04   59.29   59.43   58.19   58.70   796544\n",
      "2   2023-01-05   58.85   59.80   58.85   59.14  1014719\n",
      "3   2023-01-06   58.99   59.51   58.85   58.92   721096\n",
      "4   2023-01-09   59.07   59.36   58.63   58.92   520315\n",
      "..         ...     ...     ...     ...     ...      ...\n",
      "445 2024-10-17  136.50  137.10  135.50  137.00  2579200\n",
      "446 2024-10-18  137.40  137.80  136.60  137.00  2169400\n",
      "447 2024-10-21  137.00  137.70  135.50  135.50  2681300\n",
      "448 2024-10-22  135.70  135.70  133.00  133.10  6009200\n",
      "449 2024-10-23  132.90  134.80  132.60  134.20  3015100\n",
      "\n",
      "[450 rows x 6 columns]\n"
     ]
    }
   ],
   "source": [
    "# # Importing the Vnstock class from vnstock3 and other necessary modules\n",
    "# from vnstock3 import Vnstock\n",
    "# import datetime\n",
    "# import pandas as pd\n",
    "# import os\n",
    "\n",
    "# # Create a Vnstock object and fetch historical stock data for FPT up to today\n",
    "# stock = Vnstock().stock(symbol='FPT', source='VCI',)\n",
    "\n",
    "# # Fetch historical stock data using the method from the stock object\n",
    "# fpt_stock_data = stock.quote.history(start='2023-01-01', end=datetime.datetime.now().strftime('%Y-%m-%d'))\n",
    "\n",
    "# # Ensure the directory exists before saving the data\n",
    "# os.makedirs('../data/raw', exist_ok=True) \n",
    "\n",
    "# # Save the fetched data to a CSV file in the data/raw directory\n",
    "# file_path = '../data/raw/fpt_stock_data.csv'\n",
    "# fpt_stock_data.to_csv(file_path, index=False)\n",
    "# print(f\"Data saved to {file_path}\")\n",
    "\n",
    "# # Display the fetched data in DataFrame format\n",
    "# print(fpt_stock_data)\n"
   ]
  },
  {
   "cell_type": "markdown",
   "metadata": {},
   "source": [
    "\n",
    "Giải thích code\n",
    "```python\n",
    "\n",
    "# Đảm bảo thư mục tồn tại trước khi lưu dữ liệu\n",
    "# '.' : Thư mục hiện tại (current directory)\n",
    "# '..' : Thư mục cha/thư mục trên một cấp (parent directory)\n",
    "# Ví dụ: \n",
    "# - Nếu bạn đang ở '/code_notebooks', thì '..' sẽ trỏ đến thư mục gốc của project\n",
    "# - '../data/raw' nghĩa là: đi ra thư mục cha, sau đó vào thư mục 'data', rồi vào thư mục 'raw'\n",
    "os.makedirs('../data/raw', exist_ok=True) \n",
    "\n",
    "# Lưu dữ liệu vào file CSV trong thư mục data/raw\n",
    "# '../data/raw/fpt_stock_data1.csv' là đường dẫn tương đối:\n",
    "# - Đi ra khỏi thư mục hiện tại ('..')\n",
    "# - Vào thư mục data\n",
    "# - Vào thư mục raw\n",
    "# - Tạo/ghi file 'fpt_stock_data1.csv'\n",
    "file_path = '../data/raw/fpt_stock_data1.csv'\n",
    "```"
   ]
  },
  {
   "cell_type": "markdown",
   "metadata": {},
   "source": [
    "Xem thêm workflow tại: https://vnstocks.com/docs/huong-dan/recipe-template-workflow-mau-ung-dung"
   ]
  },
  {
   "cell_type": "markdown",
   "metadata": {},
   "source": [
    "- So sánh kết quả xài vnstock3 với kết quả xài yfinance: tại: https://finance.yahoo.com/quote/FPT.VN/history/\n",
    "- So sánh 2 đoạn này, tại sao là cùng 1 chỉ số chứng khoán mà cái số này gấp số kia 1000 lần? \n",
    "\n",
    "```\n",
    "Nguyên nhân:\n",
    "Đơn vị: Code xài vnstock3 có thể đang sử dụng đơn vị là \"đồng\" (hoặc \"VND\") trong khi đoạn đầu tiên có thể đang sử dụng đơn vị là \"nghìn đồng\". Điều này có nghĩa là giá trị trong đoạn thứ hai là giá trị thực tế của cổ phiếu được nhân với 1000.\n",
    "```\n",
    "\n",
    "- Volumn là cái gì, mà sao không trùng với trên web: @https://finance.yahoo.com/quote/FPT.VN/history/ \n",
    "```\n",
    "**Volume** (khối lượng giao dịch) là số lượng cổ phiếu được giao dịch trong một khoảng thời gian nhất định, thường là trong một ngày. Nó cho biết mức độ hoạt động của cổ phiếu trong thị trường. \n",
    "\n",
    "### Tại sao khối lượng không trùng với trên web?\n",
    "Có một số lý do có thể giải thích cho sự khác biệt giữa khối lượng giao dịch trong dữ liệu của bạn và trên trang web như Yahoo Finance:\n",
    "\n",
    "1. **Thời gian cập nhật**: Dữ liệu trên các nền tảng khác nhau có thể được cập nhật vào những thời điểm khác nhau. Nếu bạn xem dữ liệu trên Yahoo Finance, có thể nó chưa được cập nhật ngay lập tức.\n",
    "\n",
    "2. **Nguồn dữ liệu khác nhau**: Các nền tảng có thể sử dụng các nguồn dữ liệu khác nhau để thu thập thông tin về khối lượng giao dịch. Điều này có thể dẫn đến sự khác biệt trong số liệu.\n",
    "\n",
    "3. **Đơn vị đo lường**: Đôi khi, khối lượng có thể được ghi nhận theo các đơn vị khác nhau (ví dụ: số lượng cổ phiếu so với số lượng giao dịch).\n",
    "\n",
    "4. **Lỗi trong dữ liệu**: Có thể có lỗi trong việc thu thập hoặc ghi nhận dữ liệu từ một trong hai nguồn.\n",
    "\n",
    "### Kết luận\n",
    "Để có thông tin chính xác, bạn nên kiểm tra lại dữ liệu từ nhiều nguồn khác nhau và xem xét thời gian cập nhật của chúng. Nếu cần thiết, bạn có thể liên hệ với nhà cung cấp dữ liệu để làm rõ sự khác biệt.\n",
    "```"
   ]
  },
  {
   "cell_type": "code",
   "execution_count": 1,
   "metadata": {},
   "outputs": [
    {
     "name": "stderr",
     "output_type": "stream",
     "text": [
      "2024-10-24 00:05:47,568 - vnstock3.common.data.data_explorer - WARNING - Thông tin niêm yết & giao dịch sẽ được truy xuất từ TCBS\n"
     ]
    },
    {
     "name": "stdout",
     "output_type": "stream",
     "text": [
      "Data saved to ../data/raw/fpt_stock_data.csv\n",
      "          time      open      high       low     close   volume\n",
      "0   2023-01-03   56420.0   58700.0   56350.0   58700.0  1538861\n",
      "1   2023-01-04   59290.0   59430.0   58190.0   58700.0   796544\n",
      "2   2023-01-05   58850.0   59800.0   58850.0   59140.0  1014719\n",
      "3   2023-01-06   58990.0   59510.0   58850.0   58920.0   721096\n",
      "4   2023-01-09   59070.0   59360.0   58630.0   58920.0   520315\n",
      "..         ...       ...       ...       ...       ...      ...\n",
      "445 2024-10-17  136500.0  137100.0  135500.0  137000.0  2579200\n",
      "446 2024-10-18  137400.0  137800.0  136600.0  137000.0  2169400\n",
      "447 2024-10-21  137000.0  137700.0  135500.0  135500.0  2681300\n",
      "448 2024-10-22  135700.0  135700.0  133000.0  133100.0  6009200\n",
      "449 2024-10-23  132900.0  134800.0  132600.0  134200.0  3015100\n",
      "\n",
      "[450 rows x 6 columns]\n"
     ]
    }
   ],
   "source": [
    "# # Importing the Vnstock class from vnstock3 and other necessary modules\n",
    "# from vnstock3 import Vnstock\n",
    "# import datetime\n",
    "# import pandas as pd\n",
    "# import os\n",
    "\n",
    "# # Create a Vnstock object and fetch historical stock data for FPT up to today\n",
    "# stock = Vnstock().stock(symbol='FPT', source='VCI',)\n",
    "\n",
    "# # Fetch historical stock data using the method from the stock object\n",
    "# fpt_stock_data = stock.quote.history(start='2023-01-01', end=datetime.datetime.now().strftime('%Y-%m-%d'))\n",
    "\n",
    "# # Multiply the values in the 'open', 'high', 'low', 'close' columns by 1000\n",
    "# fpt_stock_data['open'] *= 1000\n",
    "# fpt_stock_data['high'] *= 1000\n",
    "# fpt_stock_data['low'] *= 1000\n",
    "# fpt_stock_data['close'] *= 1000\n",
    "\n",
    "# # Ensure the directory exists before saving the data\n",
    "# os.makedirs('../data/raw', exist_ok=True) \n",
    "\n",
    "# # Save the fetched data to a CSV file in the data/raw directory\n",
    "# file_path = '../data/raw/fpt_stock_data.csv'\n",
    "# fpt_stock_data.to_csv(file_path, index=False)\n",
    "# print(f\"Data saved to {file_path}\")\n",
    "\n",
    "# # Display the fetched data in DataFrame format\n",
    "# print(fpt_stock_data)\n"
   ]
  },
  {
   "cell_type": "markdown",
   "metadata": {},
   "source": [
    "### Đóng gói thành hàm và run hàm loạt: \n",
    "\n",
    "Crawl and Pre-Processing (*1000 ở mỗi cột để chuyển từ nghìn đồng về đồng) + với xem xét sự khác nhau của Volumn\n",
    "\n",
    "- FPT.VN: https://finance.yahoo.com/quote/FPT.VN/history/\n",
    "- CMG.VN: https://finance.yahoo.com/quote/CMG.VN/history/"
   ]
  },
  {
   "cell_type": "code",
   "execution_count": 6,
   "metadata": {},
   "outputs": [
    {
     "name": "stderr",
     "output_type": "stream",
     "text": [
      "2024-11-28 23:36:12,458 - vnstock3.common.data.data_explorer - WARNING - Thông tin niêm yết & giao dịch sẽ được truy xuất từ TCBS\n"
     ]
    },
    {
     "ename": "ConnectionError",
     "evalue": "Failed to fetch data: 404 - Not Found",
     "output_type": "error",
     "traceback": [
      "\u001b[1;31m---------------------------------------------------------------------------\u001b[0m",
      "\u001b[1;31mConnectionError\u001b[0m                           Traceback (most recent call last)",
      "Cell \u001b[1;32mIn[6], line 42\u001b[0m\n\u001b[0;32m     39\u001b[0m end_date \u001b[38;5;241m=\u001b[39m datetime\u001b[38;5;241m.\u001b[39mdatetime\u001b[38;5;241m.\u001b[39mnow()\u001b[38;5;241m.\u001b[39mstrftime(\u001b[38;5;124m'\u001b[39m\u001b[38;5;124m%\u001b[39m\u001b[38;5;124mY-\u001b[39m\u001b[38;5;124m%\u001b[39m\u001b[38;5;124mm-\u001b[39m\u001b[38;5;132;01m%d\u001b[39;00m\u001b[38;5;124m'\u001b[39m)\n\u001b[0;32m     41\u001b[0m \u001b[38;5;28;01mfor\u001b[39;00m symbol \u001b[38;5;129;01min\u001b[39;00m company_symbols:\n\u001b[1;32m---> 42\u001b[0m     \u001b[43mfetch_and_save_stock_data\u001b[49m\u001b[43m(\u001b[49m\u001b[43msymbol\u001b[49m\u001b[43m,\u001b[49m\u001b[43m \u001b[49m\u001b[43mstart_date\u001b[49m\u001b[43m,\u001b[49m\u001b[43m \u001b[49m\u001b[43mend_date\u001b[49m\u001b[43m)\u001b[49m\n",
      "Cell \u001b[1;32mIn[6], line 14\u001b[0m, in \u001b[0;36mfetch_and_save_stock_data\u001b[1;34m(symbol, start, end)\u001b[0m\n\u001b[0;32m     11\u001b[0m stock \u001b[38;5;241m=\u001b[39m Vnstock()\u001b[38;5;241m.\u001b[39mstock(symbol\u001b[38;5;241m=\u001b[39msymbol, source\u001b[38;5;241m=\u001b[39m\u001b[38;5;124m'\u001b[39m\u001b[38;5;124mVCI\u001b[39m\u001b[38;5;124m'\u001b[39m)\n\u001b[0;32m     13\u001b[0m \u001b[38;5;66;03m# Fetch historical stock data using the method from the stock object\u001b[39;00m\n\u001b[1;32m---> 14\u001b[0m stock_data \u001b[38;5;241m=\u001b[39m \u001b[43mstock\u001b[49m\u001b[38;5;241;43m.\u001b[39;49m\u001b[43mquote\u001b[49m\u001b[38;5;241;43m.\u001b[39;49m\u001b[43mhistory\u001b[49m\u001b[43m(\u001b[49m\u001b[43mstart\u001b[49m\u001b[38;5;241;43m=\u001b[39;49m\u001b[43mstart\u001b[49m\u001b[43m,\u001b[49m\u001b[43m \u001b[49m\u001b[43mend\u001b[49m\u001b[38;5;241;43m=\u001b[39;49m\u001b[43mend\u001b[49m\u001b[43m)\u001b[49m\n\u001b[0;32m     16\u001b[0m \u001b[38;5;66;03m# Multiply the values in the 'open', 'high', 'low', 'close' columns by 1000\u001b[39;00m\n\u001b[0;32m     17\u001b[0m stock_data[\u001b[38;5;124m'\u001b[39m\u001b[38;5;124mopen\u001b[39m\u001b[38;5;124m'\u001b[39m] \u001b[38;5;241m*\u001b[39m\u001b[38;5;241m=\u001b[39m \u001b[38;5;241m1000\u001b[39m\n",
      "File \u001b[1;32m~\\AppData\\Local\\Packages\\PythonSoftwareFoundation.Python.3.12_qbz5n2kfra8p0\\LocalCache\\local-packages\\Python312\\site-packages\\vnstock3\\common\\data\\data_explorer.py:119\u001b[0m, in \u001b[0;36mQuote.history\u001b[1;34m(self, symbol, **kwargs)\u001b[0m\n\u001b[0;32m    117\u001b[0m         \u001b[38;5;28mself\u001b[39m\u001b[38;5;241m.\u001b[39msymbol \u001b[38;5;241m=\u001b[39m symbol\u001b[38;5;241m.\u001b[39mupper()\n\u001b[0;32m    118\u001b[0m     \u001b[38;5;28mself\u001b[39m\u001b[38;5;241m.\u001b[39m_update_data_source(\u001b[38;5;28mself\u001b[39m\u001b[38;5;241m.\u001b[39msymbol)\n\u001b[1;32m--> 119\u001b[0m     \u001b[38;5;28;01mreturn\u001b[39;00m \u001b[38;5;28;43mself\u001b[39;49m\u001b[38;5;241;43m.\u001b[39;49m\u001b[43mdata_source\u001b[49m\u001b[38;5;241;43m.\u001b[39;49m\u001b[43mhistory\u001b[49m\u001b[43m(\u001b[49m\u001b[38;5;241;43m*\u001b[39;49m\u001b[38;5;241;43m*\u001b[39;49m\u001b[43mkwargs\u001b[49m\u001b[43m)\u001b[49m\n\u001b[0;32m    121\u001b[0m \u001b[38;5;28mself\u001b[39m\u001b[38;5;241m.\u001b[39m_update_data_source(\u001b[38;5;28mself\u001b[39m\u001b[38;5;241m.\u001b[39msymbol)\n\u001b[0;32m    122\u001b[0m \u001b[38;5;28;01mreturn\u001b[39;00m \u001b[38;5;28mself\u001b[39m\u001b[38;5;241m.\u001b[39mdata_source\u001b[38;5;241m.\u001b[39mhistory(\u001b[38;5;241m*\u001b[39m\u001b[38;5;241m*\u001b[39mkwargs)\n",
      "File \u001b[1;32m~\\AppData\\Local\\Packages\\PythonSoftwareFoundation.Python.3.12_qbz5n2kfra8p0\\LocalCache\\local-packages\\Python312\\site-packages\\vnstock3\\explorer\\vci\\quote.py:98\u001b[0m, in \u001b[0;36mQuote.history\u001b[1;34m(self, start, end, interval, to_df, show_log, count_back)\u001b[0m\n\u001b[0;32m     95\u001b[0m response \u001b[38;5;241m=\u001b[39m requests\u001b[38;5;241m.\u001b[39mpost(url, headers\u001b[38;5;241m=\u001b[39m\u001b[38;5;28mself\u001b[39m\u001b[38;5;241m.\u001b[39mheaders, data\u001b[38;5;241m=\u001b[39mpayload)\n\u001b[0;32m     97\u001b[0m \u001b[38;5;28;01mif\u001b[39;00m response\u001b[38;5;241m.\u001b[39mstatus_code \u001b[38;5;241m!=\u001b[39m \u001b[38;5;241m200\u001b[39m:\n\u001b[1;32m---> 98\u001b[0m     \u001b[38;5;28;01mraise\u001b[39;00m \u001b[38;5;167;01mConnectionError\u001b[39;00m(\u001b[38;5;124mf\u001b[39m\u001b[38;5;124m\"\u001b[39m\u001b[38;5;124mFailed to fetch data: \u001b[39m\u001b[38;5;132;01m{\u001b[39;00mresponse\u001b[38;5;241m.\u001b[39mstatus_code\u001b[38;5;132;01m}\u001b[39;00m\u001b[38;5;124m - \u001b[39m\u001b[38;5;132;01m{\u001b[39;00mresponse\u001b[38;5;241m.\u001b[39mreason\u001b[38;5;132;01m}\u001b[39;00m\u001b[38;5;124m\"\u001b[39m)\n\u001b[0;32m    100\u001b[0m json_data \u001b[38;5;241m=\u001b[39m response\u001b[38;5;241m.\u001b[39mjson()\n\u001b[0;32m    102\u001b[0m \u001b[38;5;28;01mif\u001b[39;00m show_log:\n",
      "\u001b[1;31mConnectionError\u001b[0m: Failed to fetch data: 404 - Not Found"
     ]
    }
   ],
   "source": [
    "from vnstock3 import Vnstock\n",
    "import datetime\n",
    "import pandas as pd\n",
    "import os\n",
    "\n",
    "\n",
    "\n",
    "# Define a function to fetch and save stock data for each company\n",
    "def fetch_and_save_stock_data(symbol, start, end):\n",
    "    # Create a Vnstock object and fetch historical stock data\n",
    "    stock = Vnstock().stock(symbol=symbol, source='VCI')\n",
    "\n",
    "    # Fetch historical stock data using the method from the stock object\n",
    "    stock_data = stock.quote.history(start=start, end=end)\n",
    "\n",
    "    # Multiply the values in the 'open', 'high', 'low', 'close' columns by 1000\n",
    "    stock_data['open'] *= 1000\n",
    "    stock_data['high'] *= 1000\n",
    "    stock_data['low'] *= 1000\n",
    "    stock_data['close'] *= 1000\n",
    "\n",
    "    # Ensure the directory exists before saving the data\n",
    "    os.makedirs('../data/raw', exist_ok=True) \n",
    "\n",
    "    # Save the fetched data to a CSV file in the data/raw directory\n",
    "    file_path = f'../data/raw/{symbol}_stock_data.csv'\n",
    "    stock_data.to_csv(file_path, index=False)\n",
    "    print(f\"Data saved to {file_path}\")\n",
    "\n",
    "    # Display the fetched data in DataFrame format\n",
    "    print(stock_data.head())  # Display only the first few rows\n",
    "\n",
    "\n",
    "# List of 10 IT companies with their stock symbols\n",
    "company_symbols = ['FPT', 'VGI', 'CMG', 'DGW', 'SAM', 'CMT', 'ELC', 'VTP', 'VGC', 'VTL']\n",
    "\n",
    "# Fetch stock data for multiple companies\n",
    "start_date = '2014-01-01'\n",
    "end_date = datetime.datetime.now().strftime('%Y-%m-%d')\n",
    "\n",
    "for symbol in company_symbols:\n",
    "    fetch_and_save_stock_data(symbol, start_date, end_date)\n"
   ]
  },
  {
   "cell_type": "code",
   "execution_count": 8,
   "metadata": {},
   "outputs": [
    {
     "name": "stdout",
     "output_type": "stream",
     "text": [
      "\n",
      "Processing FPT...\n",
      "Unexpected error for FPT: Invalid symbol. Your symbol format is not recognized!\n",
      "Retrying in 5 seconds...\n",
      "Unexpected error for FPT: Invalid symbol. Your symbol format is not recognized!\n",
      "Retrying in 5 seconds...\n",
      "Unexpected error for FPT: Invalid symbol. Your symbol format is not recognized!\n",
      "\n",
      "Processing VGI...\n",
      "Unexpected error for VGI: Invalid symbol. Your symbol format is not recognized!\n",
      "Retrying in 5 seconds...\n"
     ]
    },
    {
     "ename": "KeyboardInterrupt",
     "evalue": "",
     "output_type": "error",
     "traceback": [
      "\u001b[1;31m---------------------------------------------------------------------------\u001b[0m",
      "\u001b[1;31mValueError\u001b[0m                                Traceback (most recent call last)",
      "Cell \u001b[1;32mIn[8], line 18\u001b[0m, in \u001b[0;36mfetch_and_save_stock_data\u001b[1;34m(symbol, start, end, max_retries, retry_delay)\u001b[0m\n\u001b[0;32m     16\u001b[0m \u001b[38;5;28;01mtry\u001b[39;00m:\n\u001b[0;32m     17\u001b[0m     \u001b[38;5;66;03m# Create a Vnstock object and fetch historical stock data\u001b[39;00m\n\u001b[1;32m---> 18\u001b[0m     stock \u001b[38;5;241m=\u001b[39m \u001b[43mVnstock\u001b[49m\u001b[43m(\u001b[49m\u001b[43m)\u001b[49m\u001b[38;5;241;43m.\u001b[39;49m\u001b[43mstock\u001b[49m\u001b[43m(\u001b[49m\u001b[43msymbol\u001b[49m\u001b[38;5;241;43m=\u001b[39;49m\u001b[43msymbol_with_suffix\u001b[49m\u001b[43m,\u001b[49m\u001b[43m \u001b[49m\u001b[43msource\u001b[49m\u001b[38;5;241;43m=\u001b[39;49m\u001b[38;5;124;43m'\u001b[39;49m\u001b[38;5;124;43mVCI\u001b[39;49m\u001b[38;5;124;43m'\u001b[39;49m\u001b[43m)\u001b[49m\n\u001b[0;32m     20\u001b[0m     \u001b[38;5;66;03m# Fetch historical stock data\u001b[39;00m\n",
      "File \u001b[1;32m~\\AppData\\Local\\Packages\\PythonSoftwareFoundation.Python.3.12_qbz5n2kfra8p0\\LocalCache\\local-packages\\Python312\\site-packages\\vnstock3\\common\\vnstock.py:41\u001b[0m, in \u001b[0;36mstock\u001b[1;34m(self, symbol, source)\u001b[0m\n\u001b[0;32m      0\u001b[0m <Error retrieving source code with stack_data see ipython/ipython#13598>\n",
      "File \u001b[1;32m~\\AppData\\Local\\Packages\\PythonSoftwareFoundation.Python.3.12_qbz5n2kfra8p0\\LocalCache\\local-packages\\Python312\\site-packages\\vnstock3\\common\\data\\data_explorer.py:30\u001b[0m, in \u001b[0;36m__init__\u001b[1;34m(self, symbol, source, show_log)\u001b[0m\n\u001b[0;32m     29\u001b[0m     \u001b[38;5;28mself\u001b[39m\u001b[38;5;241m.\u001b[39msymbol \u001b[38;5;241m=\u001b[39m \u001b[38;5;124m'\u001b[39m\u001b[38;5;124mVN30F1M\u001b[39m\u001b[38;5;124m'\u001b[39m\n\u001b[1;32m---> 30\u001b[0m     logger\u001b[38;5;241m.\u001b[39minfo(\u001b[38;5;124m\"\u001b[39m\u001b[38;5;124mMã chứng khoán không được chỉ định, chương trình mặc định sử dụng VN30F1M\u001b[39m\u001b[38;5;124m\"\u001b[39m)\n\u001b[0;32m     31\u001b[0m \u001b[38;5;28;01mif\u001b[39;00m source \u001b[38;5;129;01mis\u001b[39;00m \u001b[38;5;129;01mnot\u001b[39;00m \u001b[38;5;28;01mNone\u001b[39;00m:\n",
      "File \u001b[1;32m~\\AppData\\Local\\Packages\\PythonSoftwareFoundation.Python.3.12_qbz5n2kfra8p0\\LocalCache\\local-packages\\Python312\\site-packages\\vnstock3\\common\\data\\data_explorer.py:34\u001b[0m, in \u001b[0;36m_initialize_components\u001b[1;34m(self)\u001b[0m\n\u001b[0;32m     33\u001b[0m \u001b[38;5;28mself\u001b[39m\u001b[38;5;241m.\u001b[39mshow_log \u001b[38;5;241m=\u001b[39m show_log\n\u001b[1;32m---> 34\u001b[0m \u001b[38;5;28;01mif\u001b[39;00m \u001b[38;5;28mself\u001b[39m\u001b[38;5;241m.\u001b[39msource \u001b[38;5;129;01mnot\u001b[39;00m \u001b[38;5;129;01min\u001b[39;00m \u001b[38;5;28mself\u001b[39m\u001b[38;5;241m.\u001b[39mSUPPORTED_SOURCES:\n\u001b[0;32m     35\u001b[0m     \u001b[38;5;28;01mraise\u001b[39;00m \u001b[38;5;167;01mValueError\u001b[39;00m(\u001b[38;5;124mf\u001b[39m\u001b[38;5;124m\"\u001b[39m\u001b[38;5;124mHiện tại chỉ có nguồn dữ liệu từ \u001b[39m\u001b[38;5;132;01m{\u001b[39;00m\u001b[38;5;124m'\u001b[39m\u001b[38;5;124m, \u001b[39m\u001b[38;5;124m'\u001b[39m\u001b[38;5;241m.\u001b[39mjoin(\u001b[38;5;28mself\u001b[39m\u001b[38;5;241m.\u001b[39mSUPPORTED_SOURCES)\u001b[38;5;132;01m}\u001b[39;00m\u001b[38;5;124m được hỗ trợ.\u001b[39m\u001b[38;5;124m\"\u001b[39m)\n",
      "File \u001b[1;32m~\\AppData\\Local\\Packages\\PythonSoftwareFoundation.Python.3.12_qbz5n2kfra8p0\\LocalCache\\local-packages\\Python312\\site-packages\\vnstock3\\common\\data\\data_explorer.py:81\u001b[0m, in \u001b[0;36m__init__\u001b[1;34m(self, symbol, source)\u001b[0m\n\u001b[0;32m     80\u001b[0m \u001b[38;5;28;01mdef\u001b[39;00m \u001b[38;5;21m__init__\u001b[39m(\u001b[38;5;28mself\u001b[39m, symbol: \u001b[38;5;28mstr\u001b[39m, source: \u001b[38;5;28mstr\u001b[39m \u001b[38;5;241m=\u001b[39m \u001b[38;5;124m\"\u001b[39m\u001b[38;5;124mVCI\u001b[39m\u001b[38;5;124m\"\u001b[39m):\n\u001b[1;32m---> 81\u001b[0m \u001b[38;5;250m    \u001b[39m\u001b[38;5;124;03m\"\"\"\u001b[39;00m\n\u001b[0;32m     82\u001b[0m \u001b[38;5;124;03m    Class (lớp) quản lý các nguồn dữ liệu được tiêu chuẩn hoá cho dữ liệu đồ thị nến, dữ liệu trả về tuỳ thuộc vào nguồn dữ liệu sẵn có được chọn.\u001b[39;00m\n\u001b[0;32m     83\u001b[0m \u001b[38;5;124;03m    \"\"\"\u001b[39;00m\n\u001b[0;32m     84\u001b[0m     \u001b[38;5;28mself\u001b[39m\u001b[38;5;241m.\u001b[39msource \u001b[38;5;241m=\u001b[39m source\u001b[38;5;241m.\u001b[39mupper()\n",
      "File \u001b[1;32m~\\AppData\\Local\\Packages\\PythonSoftwareFoundation.Python.3.12_qbz5n2kfra8p0\\LocalCache\\local-packages\\Python312\\site-packages\\vnstock3\\common\\data\\data_explorer.py:91\u001b[0m, in \u001b[0;36m_load_data_source\u001b[1;34m(self)\u001b[0m\n\u001b[0;32m     89\u001b[0m     \u001b[38;5;28mself\u001b[39m\u001b[38;5;241m.\u001b[39mdata_source \u001b[38;5;241m=\u001b[39m \u001b[38;5;28mself\u001b[39m\u001b[38;5;241m.\u001b[39m_load_data_source()\n\u001b[1;32m---> 91\u001b[0m \u001b[38;5;28;01mdef\u001b[39;00m \u001b[38;5;21m_load_data_source\u001b[39m(\u001b[38;5;28mself\u001b[39m):\n\u001b[0;32m     92\u001b[0m \u001b[38;5;250m    \u001b[39m\u001b[38;5;124;03m\"\"\"\u001b[39;00m\n\u001b[0;32m     93\u001b[0m \u001b[38;5;124;03m    Điều hướng lớp (class) nguồn dữ liệu được lựa chọn.\u001b[39;00m\n\u001b[0;32m     94\u001b[0m \u001b[38;5;124;03m    \"\"\"\u001b[39;00m\n",
      "File \u001b[1;32m~\\AppData\\Local\\Packages\\PythonSoftwareFoundation.Python.3.12_qbz5n2kfra8p0\\LocalCache\\local-packages\\Python312\\site-packages\\vnstock3\\explorer\\vci\\quote.py:26\u001b[0m, in \u001b[0;36mQuote.__init__\u001b[1;34m(self, symbol, random_agent)\u001b[0m\n\u001b[0;32m     25\u001b[0m \u001b[38;5;28mself\u001b[39m\u001b[38;5;241m.\u001b[39m_history \u001b[38;5;241m=\u001b[39m \u001b[38;5;28;01mNone\u001b[39;00m  \u001b[38;5;66;03m# Cache for historical data\u001b[39;00m\n\u001b[1;32m---> 26\u001b[0m \u001b[38;5;28mself\u001b[39m\u001b[38;5;241m.\u001b[39masset_type \u001b[38;5;241m=\u001b[39m \u001b[43mget_asset_type\u001b[49m\u001b[43m(\u001b[49m\u001b[38;5;28;43mself\u001b[39;49m\u001b[38;5;241;43m.\u001b[39;49m\u001b[43msymbol\u001b[49m\u001b[43m)\u001b[49m\n\u001b[0;32m     27\u001b[0m \u001b[38;5;28mself\u001b[39m\u001b[38;5;241m.\u001b[39mbase_url \u001b[38;5;241m=\u001b[39m _TRADING_URL\n",
      "File \u001b[1;32m~\\AppData\\Local\\Packages\\PythonSoftwareFoundation.Python.3.12_qbz5n2kfra8p0\\LocalCache\\local-packages\\Python312\\site-packages\\vnstock3\\core\\utils\\parser.py:63\u001b[0m, in \u001b[0;36mget_asset_type\u001b[1;34m(symbol)\u001b[0m\n\u001b[0;32m     62\u001b[0m     \u001b[38;5;28;01mreturn\u001b[39;00m \u001b[38;5;124m'\u001b[39m\u001b[38;5;124mbond\u001b[39m\u001b[38;5;124m'\u001b[39m\n\u001b[1;32m---> 63\u001b[0m \u001b[38;5;28;01melif\u001b[39;00m fm_pattern\u001b[38;5;241m.\u001b[39mmatch(symbol) \u001b[38;5;129;01mor\u001b[39;00m ym_pattern\u001b[38;5;241m.\u001b[39mmatch(symbol):\n\u001b[0;32m     64\u001b[0m     \u001b[38;5;28;01mreturn\u001b[39;00m \u001b[38;5;124m'\u001b[39m\u001b[38;5;124mderivative\u001b[39m\u001b[38;5;124m'\u001b[39m\n",
      "\u001b[1;31mValueError\u001b[0m: Invalid symbol. Your symbol format is not recognized!",
      "\nDuring handling of the above exception, another exception occurred:\n",
      "\u001b[1;31mKeyboardInterrupt\u001b[0m                         Traceback (most recent call last)",
      "Cell \u001b[1;32mIn[8], line 67\u001b[0m\n\u001b[0;32m     65\u001b[0m \u001b[38;5;28;01mfor\u001b[39;00m symbol \u001b[38;5;129;01min\u001b[39;00m company_symbols:\n\u001b[0;32m     66\u001b[0m     \u001b[38;5;28mprint\u001b[39m(\u001b[38;5;124mf\u001b[39m\u001b[38;5;124m\"\u001b[39m\u001b[38;5;130;01m\\n\u001b[39;00m\u001b[38;5;124mProcessing \u001b[39m\u001b[38;5;132;01m{\u001b[39;00msymbol\u001b[38;5;132;01m}\u001b[39;00m\u001b[38;5;124m...\u001b[39m\u001b[38;5;124m\"\u001b[39m)\n\u001b[1;32m---> 67\u001b[0m     \u001b[38;5;28;01mif\u001b[39;00m \u001b[43mfetch_and_save_stock_data\u001b[49m\u001b[43m(\u001b[49m\u001b[43msymbol\u001b[49m\u001b[43m,\u001b[49m\u001b[43m \u001b[49m\u001b[43mstart_date\u001b[49m\u001b[43m,\u001b[49m\u001b[43m \u001b[49m\u001b[43mend_date\u001b[49m\u001b[43m)\u001b[49m:\n\u001b[0;32m     68\u001b[0m         successful_symbols\u001b[38;5;241m.\u001b[39mappend(symbol)\n\u001b[0;32m     69\u001b[0m     \u001b[38;5;28;01melse\u001b[39;00m:\n",
      "Cell \u001b[1;32mIn[8], line 50\u001b[0m, in \u001b[0;36mfetch_and_save_stock_data\u001b[1;34m(symbol, start, end, max_retries, retry_delay)\u001b[0m\n\u001b[0;32m     48\u001b[0m \u001b[38;5;28;01mif\u001b[39;00m attempt \u001b[38;5;241m<\u001b[39m max_retries \u001b[38;5;241m-\u001b[39m \u001b[38;5;241m1\u001b[39m:\n\u001b[0;32m     49\u001b[0m     \u001b[38;5;28mprint\u001b[39m(\u001b[38;5;124mf\u001b[39m\u001b[38;5;124m\"\u001b[39m\u001b[38;5;124mRetrying in \u001b[39m\u001b[38;5;132;01m{\u001b[39;00mretry_delay\u001b[38;5;132;01m}\u001b[39;00m\u001b[38;5;124m seconds...\u001b[39m\u001b[38;5;124m\"\u001b[39m)\n\u001b[1;32m---> 50\u001b[0m     \u001b[43mtime\u001b[49m\u001b[38;5;241;43m.\u001b[39;49m\u001b[43msleep\u001b[49m\u001b[43m(\u001b[49m\u001b[43mretry_delay\u001b[49m\u001b[43m)\u001b[49m\n\u001b[0;32m     51\u001b[0m \u001b[38;5;28;01melse\u001b[39;00m:\n\u001b[0;32m     52\u001b[0m     \u001b[38;5;28;01mreturn\u001b[39;00m \u001b[38;5;28;01mFalse\u001b[39;00m\n",
      "\u001b[1;31mKeyboardInterrupt\u001b[0m: "
     ]
    }
   ],
   "source": [
    "from vnstock3 import Vnstock\n",
    "import datetime\n",
    "import pandas as pd\n",
    "import os\n",
    "import time\n",
    "from requests.exceptions import ConnectionError\n",
    "\n",
    "def fetch_and_save_stock_data(symbol, start, end, max_retries=3, retry_delay=5):\n",
    "    \"\"\"\n",
    "    Fetch and save stock data with retry mechanism\n",
    "    \"\"\"\n",
    "    # Append .VN to the symbol\n",
    "    symbol_with_suffix = f\"{symbol}.VN\"\n",
    "    \n",
    "    for attempt in range(max_retries):\n",
    "        try:\n",
    "            # Create a Vnstock object and fetch historical stock data\n",
    "            stock = Vnstock().stock(symbol=symbol_with_suffix, source='VCI')\n",
    "            \n",
    "            # Fetch historical stock data\n",
    "            stock_data = stock.quote.history(start=start, end=end)\n",
    "            \n",
    "            # If we get here, the request was successful\n",
    "            # Process and save the data\n",
    "            stock_data['open'] *= 1000\n",
    "            stock_data['high'] *= 1000\n",
    "            stock_data['low'] *= 1000\n",
    "            stock_data['close'] *= 1000\n",
    "\n",
    "            os.makedirs('../data/raw', exist_ok=True)\n",
    "            file_path = f'../data/raw/{symbol}_stock_data.csv'\n",
    "            stock_data.to_csv(file_path, index=False)\n",
    "            print(f\"Successfully saved data for {symbol} to {file_path}\")\n",
    "            print(f\"First few rows of {symbol} data:\")\n",
    "            print(stock_data.head())\n",
    "            return True\n",
    "\n",
    "        except ConnectionError as e:\n",
    "            print(f\"Attempt {attempt + 1}/{max_retries} failed for {symbol}: {str(e)}\")\n",
    "            if attempt < max_retries - 1:\n",
    "                print(f\"Retrying in {retry_delay} seconds...\")\n",
    "                time.sleep(retry_delay)\n",
    "            else:\n",
    "                print(f\"Failed to fetch data for {symbol} after {max_retries} attempts\")\n",
    "                return False\n",
    "        except Exception as e:\n",
    "            print(f\"Unexpected error for {symbol}: {str(e)}\")\n",
    "            if attempt < max_retries - 1:\n",
    "                print(f\"Retrying in {retry_delay} seconds...\")\n",
    "                time.sleep(retry_delay)\n",
    "            else:\n",
    "                return False\n",
    "\n",
    "# List of IT companies with their stock symbols\n",
    "company_symbols = ['FPT', 'VGI', 'CMG', 'DGW', 'SAM', 'CMT', 'ELC', 'VTP', 'VGC', 'VTL']\n",
    "\n",
    "# Fetch stock data for multiple companies\n",
    "start_date = '2014-01-01'\n",
    "end_date = datetime.datetime.now().strftime('%Y-%m-%d')\n",
    "\n",
    "# Track successful and failed fetches\n",
    "successful_symbols = []\n",
    "failed_symbols = []\n",
    "\n",
    "for symbol in company_symbols:\n",
    "    print(f\"\\nProcessing {symbol}...\")\n",
    "    if fetch_and_save_stock_data(symbol, start_date, end_date):\n",
    "        successful_symbols.append(symbol)\n",
    "    else:\n",
    "        failed_symbols.append(symbol)\n",
    "\n",
    "# Print summary\n",
    "print(\"\\nSummary:\")\n",
    "print(f\"Successfully processed: {successful_symbols}\")\n",
    "print(f\"Failed to process: {failed_symbols}\")"
   ]
  }
 ],
 "metadata": {
  "kernelspec": {
   "display_name": "Python 3",
   "language": "python",
   "name": "python3"
  },
  "language_info": {
   "codemirror_mode": {
    "name": "ipython",
    "version": 3
   },
   "file_extension": ".py",
   "mimetype": "text/x-python",
   "name": "python",
   "nbconvert_exporter": "python",
   "pygments_lexer": "ipython3",
   "version": "3.10.11"
  }
 },
 "nbformat": 4,
 "nbformat_minor": 2
}
