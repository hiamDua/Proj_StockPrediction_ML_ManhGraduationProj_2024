{
 "cells": [
  {
   "cell_type": "markdown",
   "metadata": {},
   "source": [
    "Em chào cả nhà ạ. Ở phiên bản tháng 10 năm 2024. Em run như này là cào được data chứng khoán ACB về. \n",
    "\n",
    "```\n",
    "!pip install -U vnstock3\n",
    "```\n",
    "```\n",
    "from vnstock3 import Vnstock\n",
    "stock = Vnstock().stock(symbol='ACB', source='VCI')\n",
    "df = stock.quote.history(\n",
    "start='2024-01-01',\n",
    "end='2024-06-21',\n",
    "interval='1D'\n",
    ")\n",
    "# preview the first five rows\n",
    "print(df.head())\n",
    "```\n",
    "\n",
    "\n",
    "Hiện tại khi em run lại thì bug \n",
    "```\n",
    "--------------------------------------------------------------------------- ConnectionError                           Traceback (most recent call last) Cell In[10], line 4  1 from vnstock3 import Vnstock  3 stock = Vnstock().stock(symbol='ACB', source='VCI') ----> 4 df = stock.quote.history(  5     start='2024-01-01',  6     end='2024-06-21',  7     interval='1D'  8 )  10 # preview the first five rows  11 print(df.head())  File ~\\AppData\\Local\\Packages\\PythonSoftwareFoundation.Python.3.12_qbz5n2kfra8p0\\LocalCache\\local-packages\\Python312\\site-packages\\vnstock3\\common\\data\\data_explorer.py:119, in Quote.history(self, symbol, **kwargs)  117 self.symbol = symbol.upper()  118 self._update_data_source(self.symbol) --> 119 return self.data_source.history(**kwargs)  121 self._update_data_source(self.symbol)  122 return self.data_source.history(**kwargs)  File ~\\AppData\\Local\\Packages\\PythonSoftwareFoundation.Python.3.12_qbz5n2kfra8p0\\LocalCache\\local-packages\\Python312\\site-packages\\vnstock3\\explorer\\vci\\quote.py:98, in Quote.history(self, start, end, interval, to_df, show_log, count_back)  95 response = requests.post(url, headers=self.headers, data=payload)  97 if response.status_code != 200: ---> 98 raise ConnectionError(f\"Failed to fetch data: {response.status_code} - {response.reason}\")  100 json_data = response.json()  102 if show_log:  ConnectionError: Failed to fetch data: 404 - Not Found\n",
    "```"
   ]
  },
  {
   "cell_type": "markdown",
   "metadata": {},
   "source": [
    "Vũ Thịnh\n",
    "Admin\n",
    "\n",
    "Rising contributor\n",
    "  · \n",
    "Chắc là lỗi nhất thời từ hệ thống thôi em nhé. Em chạy thử với Python3.10 nhé, log của em mô tả em chạy trên bản 3.12 có thể có 1 số thư viện đã thay đổi tính năng hoặc ko tương thích có thời gian anh sẽ kiểm tra thêm. Đoạn code em paste ở trên có trong sample notebook, anh chạy thấy bình thường trên Colab https://colab.research.google.com/.../1_vietnam_stock..."
   ]
  },
  {
   "cell_type": "markdown",
   "metadata": {},
   "source": [
    "Vũ Thịnh Em cảm ơn admin, em run 3.10.11 thì vẫn đang bug (có thể do IDE của em bug). \n",
    "----\n",
    "colab em đang thấy 3.10.12 (em run trên colab như admin bảo được luôn rùi ạ). "
   ]
  },
  {
   "cell_type": "code",
   "execution_count": null,
   "metadata": {},
   "outputs": [],
   "source": []
  }
 ],
 "metadata": {
  "language_info": {
   "name": "python"
  }
 },
 "nbformat": 4,
 "nbformat_minor": 2
}
